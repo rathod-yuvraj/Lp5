{
 "cells": [
  {
   "cell_type": "code",
   "execution_count": 1,
   "id": "8b82aac0-2a00-4b01-a8f0-b96c61a6b390",
   "metadata": {},
   "outputs": [],
   "source": [
    "import numpy as np"
   ]
  },
  {
   "cell_type": "code",
   "execution_count": 2,
   "id": "3a657dfc-ae40-4221-89c4-9875512af66a",
   "metadata": {},
   "outputs": [],
   "source": [
    "from tensorflow.keras.models import Sequential\n",
    "from tensorflow.keras.layers import Dense, Dropout\n",
    "from tensorflow.keras.optimizers import RMSprop\n",
    "from tensorflow.keras.datasets import mnist \n",
    "import matplotlib.pyplot as plt \n",
    "from sklearn import metrics \n"
   ]
  },
  {
   "cell_type": "code",
   "execution_count": 3,
   "id": "ad11c721-6525-4e4b-8c8c-ee589c754235",
   "metadata": {},
   "outputs": [],
   "source": [
    "(x_train, y_train), (x_test, y_test) = mnist.load_data()"
   ]
  },
  {
   "cell_type": "code",
   "execution_count": 4,
   "id": "0a6022b5-d086-484c-aadd-141b4afc20a4",
   "metadata": {},
   "outputs": [
    {
     "data": {
      "text/plain": [
       "<matplotlib.image.AxesImage at 0x1c278106cd0>"
      ]
     },
     "execution_count": 4,
     "metadata": {},
     "output_type": "execute_result"
    },
    {
     "data": {
      "image/png": "[encoded data removed]",
      "text/plain": [
       "<Figure size 640x480 with 1 Axes>"
      ]
     },
     "metadata": {},
     "output_type": "display_data"
    }
   ],
   "source": [
    "plt.imshow(x_train[0], cmap='gray') "
   ]
  },
  {
   "cell_type": "code",
   "execution_count": 5,
   "id": "78eed3b2-aedd-4d67-9d5e-1fc8f91583a6",
   "metadata": {},
   "outputs": [],
   "source": [
    "plt.show() "
   ]
  },
  {
   "cell_type": "code",
   "execution_count": 6,
   "id": "319f1fbc-10f7-48f8-9322-18272c23c882",
   "metadata": {},
   "outputs": [
    {
     "name": "stdout",
     "output_type": "stream",
     "text": [
      "[[  0   0   0   0   0   0   0   0   0   0   0   0   0   0   0   0   0   0\n",
      "    0   0   0   0   0   0   0   0   0   0]\n",
      " [  0   0   0   0   0   0   0   0   0   0   0   0   0   0   0   0   0   0\n",
      "    0   0   0   0   0   0   0   0   0   0]\n",
      " [  0   0   0   0   0   0   0   0   0   0   0   0   0   0   0   0   0   0\n",
      "    0   0   0   0   0   0   0   0   0   0]\n",
      " [  0   0   0   0   0   0   0   0   0   0   0   0   0   0   0   0   0   0\n",
      "    0   0   0   0   0   0   0   0   0   0]\n",
      " [  0   0   0   0   0   0   0   0   0   0   0   0   0   0   0   0   0   0\n",
      "    0   0   0   0   0   0   0   0   0   0]\n",
      " [  0   0   0   0   0   0   0   0   0   0   0   0   3  18  18  18 126 136\n",
      "  175  26 166 255 247 127   0   0   0   0]\n",
      " [  0   0   0   0   0   0   0   0  30  36  94 154 170 253 253 253 253 253\n",
      "  225 172 253 242 195  64   0   0   0   0]\n",
      " [  0   0   0   0   0   0   0  49 238 253 253 253 253 253 253 253 253 251\n",
      "   93  82  82  56  39   0   0   0   0   0]\n",
      " [  0   0   0   0   0   0   0  18 219 253 253 253 253 253 198 182 247 241\n",
      "    0   0   0   0   0   0   0   0   0   0]\n",
      " [  0   0   0   0   0   0   0   0  80 156 107 253 253 205  11   0  43 154\n",
      "    0   0   0   0   0   0   0   0   0   0]\n",
      " [  0   0   0   0   0   0   0   0   0  14   1 154 253  90   0   0   0   0\n",
      "    0   0   0   0   0   0   0   0   0   0]\n",
      " [  0   0   0   0   0   0   0   0   0   0   0 139 253 190   2   0   0   0\n",
      "    0   0   0   0   0   0   0   0   0   0]\n",
      " [  0   0   0   0   0   0   0   0   0   0   0  11 190 253  70   0   0   0\n",
      "    0   0   0   0   0   0   0   0   0   0]\n",
      " [  0   0   0   0   0   0   0   0   0   0   0   0  35 241 225 160 108   1\n",
      "    0   0   0   0   0   0   0   0   0   0]\n",
      " [  0   0   0   0   0   0   0   0   0   0   0   0   0  81 240 253 253 119\n",
      "   25   0   0   0   0   0   0   0   0   0]\n",
      " [  0   0   0   0   0   0   0   0   0   0   0   0   0   0  45 186 253 253\n",
      "  150  27   0   0   0   0   0   0   0   0]\n",
      " [  0   0   0   0   0   0   0   0   0   0   0   0   0   0   0  16  93 252\n",
      "  253 187   0   0   0   0   0   0   0   0]\n",
      " [  0   0   0   0   0   0   0   0   0   0   0   0   0   0   0   0   0 249\n",
      "  253 249  64   0   0   0   0   0   0   0]\n",
      " [  0   0   0   0   0   0   0   0   0   0   0   0   0   0  46 130 183 253\n",
      "  253 207   2   0   0   0   0   0   0   0]\n",
      " [  0   0   0   0   0   0   0   0   0   0   0   0  39 148 229 253 253 253\n",
      "  250 182   0   0   0   0   0   0   0   0]\n",
      " [  0   0   0   0   0   0   0   0   0   0  24 114 221 253 253 253 253 201\n",
      "   78   0   0   0   0   0   0   0   0   0]\n",
      " [  0   0   0   0   0   0   0   0  23  66 213 253 253 253 253 198  81   2\n",
      "    0   0   0   0   0   0   0   0   0   0]\n",
      " [  0   0   0   0   0   0  18 171 219 253 253 253 253 195  80   9   0   0\n",
      "    0   0   0   0   0   0   0   0   0   0]\n",
      " [  0   0   0   0  55 172 226 253 253 253 253 244 133  11   0   0   0   0\n",
      "    0   0   0   0   0   0   0   0   0   0]\n",
      " [  0   0   0   0 136 253 253 253 212 135 132  16   0   0   0   0   0   0\n",
      "    0   0   0   0   0   0   0   0   0   0]\n",
      " [  0   0   0   0   0   0   0   0   0   0   0   0   0   0   0   0   0   0\n",
      "    0   0   0   0   0   0   0   0   0   0]\n",
      " [  0   0   0   0   0   0   0   0   0   0   0   0   0   0   0   0   0   0\n",
      "    0   0   0   0   0   0   0   0   0   0]\n",
      " [  0   0   0   0   0   0   0   0   0   0   0   0   0   0   0   0   0   0\n",
      "    0   0   0   0   0   0   0   0   0   0]]\n"
     ]
    }
   ],
   "source": [
    "print(x_train[0])"
   ]
  },
  {
   "cell_type": "code",
   "execution_count": 7,
   "id": "530141cb-2430-476a-b884-c33c14131c72",
   "metadata": {},
   "outputs": [
    {
     "name": "stdout",
     "output_type": "stream",
     "text": [
      "X_train shape (60000, 28, 28)\n",
      "y_train shape (60000,)\n",
      "X_test shape (10000, 28, 28)\n",
      "y_test shape (10000,)\n"
     ]
    }
   ],
   "source": [
    "print(\"X_train shape\", x_train.shape) \n",
    "print(\"y_train shape\", y_train.shape) \n",
    "print(\"X_test shape\", x_test.shape) \n",
    "print(\"y_test shape\", y_test.shape)"
   ]
  },
  {
   "cell_type": "code",
   "execution_count": 8,
   "id": "48cbffba-63c6-4831-9feb-452ebad65dc6",
   "metadata": {},
   "outputs": [],
   "source": [
    "x_train = x_train.reshape(60000, 784)\n",
    "x_test = x_test.reshape(10000, 784)"
   ]
  },
  {
   "cell_type": "code",
   "execution_count": 9,
   "id": "f6334726-460c-4f29-98cb-be5967ecf42e",
   "metadata": {},
   "outputs": [],
   "source": [
    "x_train = x_train.astype('float32') "
   ]
  },
  {
   "cell_type": "code",
   "execution_count": 10,
   "id": "67ee1dd2-7977-4be3-bb39-1181b56c12ce",
   "metadata": {},
   "outputs": [],
   "source": [
    "x_test = x_test.astype('float32')"
   ]
  },
  {
   "cell_type": "code",
   "execution_count": 11,
   "id": "a44ff5ae-dd84-47e6-8b98-dc25b4a3bfdd",
   "metadata": {},
   "outputs": [],
   "source": [
    "x_train /= 255 \n",
    "x_test /= 255"
   ]
  },
  {
   "cell_type": "code",
   "execution_count": 12,
   "id": "aa2ac750-9a4a-46bf-b8c3-dd2c73fbca92",
   "metadata": {},
   "outputs": [],
   "source": [
    "num_classes = 10"
   ]
  },
  {
   "cell_type": "code",
   "execution_count": 13,
   "id": "e4e32b5d-641a-44fa-9a8e-fc61088e6d27",
   "metadata": {},
   "outputs": [],
   "source": [
    "y_train = np.eye(num_classes)[y_train] \n",
    "y_test = np.eye(num_classes)[y_test] "
   ]
  },
  {
   "cell_type": "code",
   "execution_count": 14,
   "id": "964f20f5-7f7a-4c95-888f-8781c126bdb6",
   "metadata": {},
   "outputs": [],
   "source": [
    "model = Sequential()"
   ]
  },
  {
   "cell_type": "code",
   "execution_count": 15,
   "id": "b2213630-4810-4634-997c-da8769976ab7",
   "metadata": {},
   "outputs": [],
   "source": [
    "model.add(Dense(512, activation='relu', input_shape=(784,))) "
   ]
  },
  {
   "cell_type": "code",
   "execution_count": 16,
   "id": "37541e32-366a-4437-bb84-ce332b4cfc91",
   "metadata": {},
   "outputs": [],
   "source": [
    "model.add(Dropout(0.2)) "
   ]
  },
  {
   "cell_type": "code",
   "execution_count": 17,
   "id": "3173f79f-0b7d-4c43-9584-b4b7bfeeb24f",
   "metadata": {},
   "outputs": [],
   "source": [
    "model.add(Dense(512, activation='relu')) \n"
   ]
  },
  {
   "cell_type": "code",
   "execution_count": 18,
   "id": "a1131ccf-78f2-4346-b21b-1018cf9c7224",
   "metadata": {},
   "outputs": [],
   "source": [
    "model.add(Dropout(0.2)) \n",
    "model.add(Dense(num_classes, activation='softmax')) "
   ]
  },
  {
   "cell_type": "code",
   "execution_count": 19,
   "id": "e80e7470-88bf-4a69-a600-85b2fa0cb3d5",
   "metadata": {},
   "outputs": [],
   "source": [
    "model.compile(loss='categorical_crossentropy', optimizer=RMSprop(), metrics=['accuracy'])"
   ]
  },
  {
   "cell_type": "code",
   "execution_count": 20,
   "id": "f2b1ad36-58dc-4fcb-bcec-a5a72a872efc",
   "metadata": {},
   "outputs": [],
   "source": [
    "batch_size = 128 "
   ]
  },
  {
   "cell_type": "code",
   "execution_count": 21,
   "id": "fb9da006-7e17-43ef-aa6e-cfc6002766df",
   "metadata": {},
   "outputs": [],
   "source": [
    "epochs = 20"
   ]
  },
  {
   "cell_type": "code",
   "execution_count": 22,
   "id": "d8af06ba-286d-4df3-84fd-72c907d3a808",
   "metadata": {},
   "outputs": [
    {
     "name": "stdout",
     "output_type": "stream",
     "text": [
      "Epoch 1/20\n",
      "469/469 [==============================] - 13s 23ms/step - loss: 0.2521 - accuracy: 0.9226 - val_loss: 0.1205 - val_accuracy: 0.9602\n",
      "Epoch 2/20\n",
      "469/469 [==============================] - 8s 17ms/step - loss: 0.1062 - accuracy: 0.9676 - val_loss: 0.0814 - val_accuracy: 0.9733\n",
      "Epoch 3/20\n",
      "469/469 [==============================] - 7s 15ms/step - loss: 0.0753 - accuracy: 0.9760 - val_loss: 0.0683 - val_accuracy: 0.9799\n",
      "Epoch 4/20\n",
      "469/469 [==============================] - 7s 15ms/step - loss: 0.0610 - accuracy: 0.9810 - val_loss: 0.0705 - val_accuracy: 0.9799\n",
      "Epoch 5/20\n",
      "469/469 [==============================] - 7s 14ms/step - loss: 0.0473 - accuracy: 0.9850 - val_loss: 0.0753 - val_accuracy: 0.9784\n",
      "Epoch 6/20\n",
      "469/469 [==============================] - 7s 14ms/step - loss: 0.0403 - accuracy: 0.9870 - val_loss: 0.0618 - val_accuracy: 0.9821\n",
      "Epoch 7/20\n",
      "469/469 [==============================] - 7s 15ms/step - loss: 0.0343 - accuracy: 0.9890 - val_loss: 0.0636 - val_accuracy: 0.9836\n",
      "Epoch 8/20\n",
      "469/469 [==============================] - 7s 15ms/step - loss: 0.0293 - accuracy: 0.9906 - val_loss: 0.0597 - val_accuracy: 0.9853\n",
      "Epoch 9/20\n",
      "469/469 [==============================] - 7s 15ms/step - loss: 0.0268 - accuracy: 0.9911 - val_loss: 0.0633 - val_accuracy: 0.9835\n",
      "Epoch 10/20\n",
      "469/469 [==============================] - 7s 15ms/step - loss: 0.0227 - accuracy: 0.9925 - val_loss: 0.0778 - val_accuracy: 0.9818\n",
      "Epoch 11/20\n",
      "469/469 [==============================] - 7s 15ms/step - loss: 0.0215 - accuracy: 0.9931 - val_loss: 0.0770 - val_accuracy: 0.9836\n",
      "Epoch 12/20\n",
      "469/469 [==============================] - 7s 14ms/step - loss: 0.0186 - accuracy: 0.9940 - val_loss: 0.0763 - val_accuracy: 0.9828\n",
      "Epoch 13/20\n",
      "469/469 [==============================] - 7s 14ms/step - loss: 0.0159 - accuracy: 0.9949 - val_loss: 0.0747 - val_accuracy: 0.9842\n",
      "Epoch 14/20\n",
      "469/469 [==============================] - 7s 14ms/step - loss: 0.0160 - accuracy: 0.9952 - val_loss: 0.0766 - val_accuracy: 0.9827\n",
      "Epoch 15/20\n",
      "469/469 [==============================] - 7s 15ms/step - loss: 0.0138 - accuracy: 0.9956 - val_loss: 0.0737 - val_accuracy: 0.9853\n",
      "Epoch 16/20\n",
      "469/469 [==============================] - 8s 17ms/step - loss: 0.0140 - accuracy: 0.9954 - val_loss: 0.0727 - val_accuracy: 0.9853\n",
      "Epoch 17/20\n",
      "469/469 [==============================] - 7s 15ms/step - loss: 0.0123 - accuracy: 0.9958 - val_loss: 0.0673 - val_accuracy: 0.9856\n",
      "Epoch 18/20\n",
      "469/469 [==============================] - 7s 15ms/step - loss: 0.0112 - accuracy: 0.9965 - val_loss: 0.0796 - val_accuracy: 0.9849\n",
      "Epoch 19/20\n",
      "469/469 [==============================] - 8s 17ms/step - loss: 0.0099 - accuracy: 0.9971 - val_loss: 0.0849 - val_accuracy: 0.9847\n",
      "Epoch 20/20\n",
      "469/469 [==============================] - 7s 16ms/step - loss: 0.0093 - accuracy: 0.9969 - val_loss: 0.0802 - val_accuracy: 0.9846\n"
     ]
    }
   ],
   "source": [
    "history = model.fit(x_train, y_train,\n",
    "batch_size=batch_size, epochs=epochs,\n",
    "verbose=1, \n",
    "validation_data=(x_test, y_test)) "
   ]
  },
  {
   "cell_type": "code",
   "execution_count": 23,
   "id": "6bd4e9ae-00b8-4a73-b351-b8b2c061a5b2",
   "metadata": {},
   "outputs": [
    {
     "name": "stdout",
     "output_type": "stream",
     "text": [
      "Test loss: 0.08018597215414047\n",
      "Test accuracy: 0.9846000075340271\n"
     ]
    }
   ],
   "source": [
    "score = model.evaluate(x_test, y_test, verbose=0)\n",
    "print('Test loss:', score[0]) \n",
    "print('Test accuracy:', score[1])"
   ]
  },
  {
   "cell_type": "code",
   "execution_count": null,
   "id": "9d5e67bc-9aeb-460c-9105-d49245d229cd",
   "metadata": {},
   "outputs": [],
   "source": []
  }
 ],
 "metadata": {
  "kernelspec": {
   "display_name": "Python 3",
   "language": "python",
   "name": "python3"
  },
  "language_info": {
   "codemirror_mode": {
    "name": "ipython",
    "version": 3
   },
   "file_extension": ".py",
   "mimetype": "text/x-python",
   "name": "python",
   "nbconvert_exporter": "python",
   "pygments_lexer": "ipython3",
   "version": "3.11.4"
  }
 },
 "nbformat": 4,
 "nbformat_minor": 5
}
